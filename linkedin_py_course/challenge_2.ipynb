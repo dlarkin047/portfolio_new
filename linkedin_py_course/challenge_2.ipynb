{
 "cells": [
  {
   "cell_type": "markdown",
   "metadata": {},
   "source": [
    "# Challenge 2"
   ]
  },
  {
   "cell_type": "markdown",
   "metadata": {},
   "source": [
    "## Convert Hexadecial to decimal\n",
    "Hexadecimal, or \"base 16\", uses all of the numbers 0-9, plus a few others to signify higher numbers:\n",
    "\n",
    "A = 10\n",
    "B = 11\n",
    "C = 12\n",
    "D = 13\n",
    "E = 14\n",
    "F = 15"
   ]
  },
  {
   "cell_type": "markdown",
   "metadata": {},
   "source": [
    "## Task\n",
    "Write a funcation to convert a hexadecimal string (up to three characters long) into a decimal integer. Do not use the Python function int(hexNum, 16) to do this. Write your own function!\n",
    "### Parameters\n",
    "hexNum: Some value that needs to be converted into a decimal number, if possible. Up to three characters long.\n",
    "### Result\n",
    "Int: The decimal value of the hexadecimal input, or None of if it is not a valid hexadecimal input.\n",
    "\n",
    "#### Example\n",
    "Input: ABC\n",
    "Result: 2748\n",
    "Input \"Not a number\"\n",
    "Result: None"
   ]
  },
  {
   "cell_type": "code",
   "execution_count": 1,
   "metadata": {},
   "outputs": [],
   "source": [
    "hexNumbers = { \n",
    "    '0':0, '1':1, '2':2, '3':3, '4':4, '5':5, '6':6, '7':7,\n",
    "    '8':8, '9':9, 'A':10, 'B':11, 'C':12, 'D':13, 'E':14, 'F':15\n",
    "}"
   ]
  },
  {
   "cell_type": "code",
   "execution_count": 67,
   "metadata": {},
   "outputs": [],
   "source": [
    "def hexToDec(hexNum):\n",
    "    for char in hexNum:\n",
    "        if char not in hexNumbers:\n",
    "            return None\n",
    "    power = 0\n",
    "    tot = 0\n",
    "    for d in hexNum[::-1]:\n",
    "        tot = tot + (hexNumbers[d] * pow(16,power))\n",
    "        power = power + 1\n",
    "    return tot"
   ]
  },
  {
   "cell_type": "code",
   "execution_count": 71,
   "metadata": {},
   "outputs": [
    {
     "data": {
      "text/plain": [
       "2748"
      ]
     },
     "execution_count": 71,
     "metadata": {},
     "output_type": "execute_result"
    }
   ],
   "source": [
    "hexToDec('ABC')"
   ]
  },
  {
   "cell_type": "code",
   "execution_count": 69,
   "metadata": {},
   "outputs": [],
   "source": [
    "hexToDec('Not a number')"
   ]
  }
 ],
 "metadata": {
  "kernelspec": {
   "display_name": "base",
   "language": "python",
   "name": "python3"
  },
  "language_info": {
   "codemirror_mode": {
    "name": "ipython",
    "version": 3
   },
   "file_extension": ".py",
   "mimetype": "text/x-python",
   "name": "python",
   "nbconvert_exporter": "python",
   "pygments_lexer": "ipython3",
   "version": "3.12.4"
  }
 },
 "nbformat": 4,
 "nbformat_minor": 2
}
