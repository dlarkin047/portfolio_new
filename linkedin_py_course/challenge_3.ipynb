{
 "cells": [
  {
   "cell_type": "markdown",
   "metadata": {},
   "source": [
    "# Challenge Three"
   ]
  },
  {
   "cell_type": "markdown",
   "metadata": {},
   "source": [
    "## Encoding ASCII art\n",
    "A string like 'AAAAABBBBAAA' can be efficiently represented as \"5 a's followed by 4 b's followed by 3 a's. This is called run-length encoding.\n",
    "\n",
    "### Your task\n",
    "Write a function encodeString that will encode a string like 'AAAAABBBBAAA' AND RETURN A LIST OF TUPLES: [('A',5),('B',4),('A',3)], meaning that the string has \"5 a's, followed by 4 b's, followed by 3 a's.\"\n",
    "\n",
    "Write a corresponding dunction called decodeString that will take in a list of tuples and print the orginal string.\n",
    "\n",
    "### Constraints\n",
    "No need to check inputs; all test cases will be strings.\n",
    "\n",
    "### encodeString example\n",
    "Input: AAAAABBBBAAA\n",
    "Result: [('A',5),('B',4),('C',3)]\n",
    "\n",
    "### decodeString example\n",
    "Input [('W',5),('1',2),('G',3)]\n",
    "Result: WWWWW11GGG"
   ]
  },
  {
   "cell_type": "markdown",
   "metadata": {},
   "source": [
    "# Task Answer"
   ]
  },
  {
   "cell_type": "code",
   "execution_count": 12,
   "metadata": {},
   "outputs": [],
   "source": [
    "def encodeString(stringVal):\n",
    "    encodedList = []\n",
    "    prevVal = stringVal[0]\n",
    "    count = 0\n",
    "    for char in stringVal:\n",
    "        if char != prevVal:\n",
    "            encodedList.append((prevVal, count))\n",
    "            count = 0\n",
    "        prevVal = char\n",
    "        count = count + 1\n",
    "\n",
    "    encodedList.append((prevVal, count))\n",
    "    return encodedList"
   ]
  },
  {
   "cell_type": "code",
   "execution_count": 30,
   "metadata": {},
   "outputs": [],
   "source": [
    "def decodeString(encodedList):\n",
    "    decoded_string = ''\n",
    "    for i in encodedList:\n",
    "        decoded_string = decoded_string + (i[0]*i[1])\n",
    "    return decoded_string"
   ]
  },
  {
   "cell_type": "code",
   "execution_count": 13,
   "metadata": {},
   "outputs": [
    {
     "data": {
      "text/plain": [
       "[('A', 5), ('B', 4), ('A', 3)]"
      ]
     },
     "execution_count": 13,
     "metadata": {},
     "output_type": "execute_result"
    }
   ],
   "source": [
    "plain_text = 'AAAAABBBBAAA'\n",
    "encodeString(plain_text)"
   ]
  },
  {
   "cell_type": "code",
   "execution_count": 31,
   "metadata": {},
   "outputs": [
    {
     "data": {
      "text/plain": [
       "'AAAAABBBBAAA'"
      ]
     },
     "execution_count": 31,
     "metadata": {},
     "output_type": "execute_result"
    }
   ],
   "source": [
    "tups = [('A',5),('B',4),('A',3)]\n",
    "decodeString(tups)"
   ]
  }
 ],
 "metadata": {
  "kernelspec": {
   "display_name": "base",
   "language": "python",
   "name": "python3"
  },
  "language_info": {
   "codemirror_mode": {
    "name": "ipython",
    "version": 3
   },
   "file_extension": ".py",
   "mimetype": "text/x-python",
   "name": "python",
   "nbconvert_exporter": "python",
   "pygments_lexer": "ipython3",
   "version": "3.12.4"
  }
 },
 "nbformat": 4,
 "nbformat_minor": 2
}
