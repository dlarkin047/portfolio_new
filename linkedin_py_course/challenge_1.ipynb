{
 "cells": [
  {
   "cell_type": "markdown",
   "metadata": {},
   "source": [
    "# Challenge One"
   ]
  },
  {
   "cell_type": "markdown",
   "metadata": {},
   "source": [
    "## Factorial Challenge"
   ]
  },
  {
   "cell_type": "markdown",
   "metadata": {},
   "source": [
    "The \"factorial\" of a number is that number multiplied by all the positive while numbers less than it. It is written with an exclamation point like \"n!\" (read this as \"n factorial\").\n",
    "\n",
    "So, for a given number, n:\n",
    "\n",
    "n! = n*(n-1)*(n-2)*...*3*2*1\n",
    "\n",
    "The factorial of a number also happens to be the number of ways to arrange a set of items. For example, the possible arrangements of a standard desk of playing cards (containing 52 cards) is 52!. This is a very, very big number.\n",
    "Mathematicans have decided that in a set of 0 items (an empty set) this is only one way to arrange them, therefore:\n",
    "\n",
    "0!=1\n",
    "\n",
    "For the purposes of this challenge, factorials are only defined for proisitve integers (including 0). If an input is not a positive integer or 0, you should return None."
   ]
  },
  {
   "cell_type": "markdown",
   "metadata": {},
   "source": [
    "### Task\n",
    "Write a function called \"factorial\" that returns the factorial of a number passed in.\n",
    "\n",
    "#### Parameters\n",
    "num:0 or a positive integer that your function should find the factorial of. If its not one of these then you should return None.\n",
    "\n",
    "#### Result\n",
    "The factorial of that number.\n",
    "\n",
    "#### Constraints\n",
    "If an input is not a positive whole number, make sure that your function returns none.\n",
    "\n",
    "#### Exampe\n",
    "Input: 5\n",
    "Result: 120"
   ]
  },
  {
   "cell_type": "markdown",
   "metadata": {},
   "source": [
    "# Task Answer"
   ]
  },
  {
   "cell_type": "code",
   "execution_count": 27,
   "metadata": {},
   "outputs": [],
   "source": [
    "def factorial(num):\n",
    "    if type(num) != int:\n",
    "        return None\n",
    "    if num < 0:\n",
    "        return None\n",
    "    if num == 0:\n",
    "        return 1\n",
    "    return num * factorial(num -1)"
   ]
  },
  {
   "cell_type": "code",
   "execution_count": 36,
   "metadata": {},
   "outputs": [
    {
     "name": "stdout",
     "output_type": "stream",
     "text": [
      "120\n"
     ]
    }
   ],
   "source": [
    "number = 5\n",
    "print(factorial(number))"
   ]
  }
 ],
 "metadata": {
  "kernelspec": {
   "display_name": "base",
   "language": "python",
   "name": "python3"
  },
  "language_info": {
   "codemirror_mode": {
    "name": "ipython",
    "version": 3
   },
   "file_extension": ".py",
   "mimetype": "text/x-python",
   "name": "python",
   "nbconvert_exporter": "python",
   "pygments_lexer": "ipython3",
   "version": "3.12.4"
  }
 },
 "nbformat": 4,
 "nbformat_minor": 2
}
