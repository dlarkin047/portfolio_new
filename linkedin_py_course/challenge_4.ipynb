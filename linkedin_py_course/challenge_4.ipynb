{
 "cells": [
  {
   "cell_type": "markdown",
   "metadata": {},
   "source": [
    "# Challenge 4"
   ]
  },
  {
   "cell_type": "markdown",
   "metadata": {},
   "source": [
    "## Faster Prime finding\n",
    "Below is an example of what we use to find prime numbers:"
   ]
  },
  {
   "cell_type": "code",
   "execution_count": 40,
   "metadata": {},
   "outputs": [],
   "source": [
    "def prime_finder(number):\n",
    "    primelist = []\n",
    "    for num in range(2, number):\n",
    "        for factor in range(2, int(num**0.5) + 1):\n",
    "            if num % factor == 0:\n",
    "                break\n",
    "            else:\n",
    "                primelist.append(num)\n",
    "                break\n",
    "    return primelist"
   ]
  },
  {
   "cell_type": "code",
   "execution_count": 41,
   "metadata": {},
   "outputs": [
    {
     "name": "stdout",
     "output_type": "stream",
     "text": [
      "[5, 7, 9, 11, 13, 15, 17, 19, 21, 23, 25, 27, 29, 31, 33, 35, 37, 39, 41, 43, 45, 47, 49]\n"
     ]
    }
   ],
   "source": [
    "print(prime_finder(51))"
   ]
  },
  {
   "cell_type": "markdown",
   "metadata": {},
   "source": [
    "It works but it is inefficient.\n",
    "If a number is not divisible by 2, we know that it will also not be divisible by 4, 8, 10, etc. We still test those numbers to see if they're factors. Similarly, if a number is not divisible y 3, we know that it will also bot be divisible by 6, 9, 12, etc.\n",
    "\n",
    "In fact, in order to test if a given number is prime we dont need to test every potential factor up to the square root of the number. we only need to test the prime potential factors!\n",
    "\n",
    "Example: We want to check if the number 51 is prime.\n",
    "\n",
    "Inefficient mentod: Test to see if 51 is divisible by 2,3,4,5,6,7,8.\n",
    "Efficient method: Test to see if 51 is diviable by 2,3,5,7.\n",
    "\n",
    "This seems great, as long as you have a list of all the prime numbers calculated beforehand! Well, it turns out, we can calculate it as we go. Imagine a scenario where you want to find all the prime numbers up to a certain number. E.g. all the prime numbers up to 100."
   ]
  },
  {
   "cell_type": "markdown",
   "metadata": {},
   "source": [
    "## Task\n",
    "Write a function called allPrimesUpTo which returns a list of all prime numbers up to the given input number.\n",
    "\n",
    "### Parameters\n",
    "num: A positive while integer\n",
    "\n",
    "### Result\n",
    "list: A list of all integer primes less than num\n",
    "\n",
    "### Constraints\n",
    "No need to check inputs. The input variable will always be a positive while integer.\n",
    "\n",
    "#### Example\n",
    "Input: 10\n",
    "Result: [2,3,5,7]"
   ]
  },
  {
   "cell_type": "markdown",
   "metadata": {},
   "source": [
    "# Task Answer"
   ]
  },
  {
   "cell_type": "code",
   "execution_count": 23,
   "metadata": {},
   "outputs": [],
   "source": [
    "def allPrimesUpTo(num):\n",
    "    primes = [2]\n",
    "    for number in range(3, num):\n",
    "        sqtNum = number ** 0.5\n",
    "        for factor in primes:\n",
    "            if number % factor == 0:\n",
    "                break\n",
    "            if factor > sqtNum:\n",
    "                primes.append(number)\n",
    "                break\n",
    "    return primes"
   ]
  },
  {
   "cell_type": "code",
   "execution_count": 25,
   "metadata": {},
   "outputs": [
    {
     "data": {
      "text/plain": [
       "[2, 3, 5, 7, 11, 13, 17, 19, 23, 29, 31, 37, 41, 43, 47]"
      ]
     },
     "execution_count": 25,
     "metadata": {},
     "output_type": "execute_result"
    }
   ],
   "source": [
    "allPrimesUpTo(51)"
   ]
  }
 ],
 "metadata": {
  "kernelspec": {
   "display_name": "base",
   "language": "python",
   "name": "python3"
  },
  "language_info": {
   "codemirror_mode": {
    "name": "ipython",
    "version": 3
   },
   "file_extension": ".py",
   "mimetype": "text/x-python",
   "name": "python",
   "nbconvert_exporter": "python",
   "pygments_lexer": "ipython3",
   "version": "3.12.4"
  }
 },
 "nbformat": 4,
 "nbformat_minor": 2
}
