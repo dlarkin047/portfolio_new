{
 "cells": [
  {
   "cell_type": "markdown",
   "metadata": {},
   "source": [
    "# Challenge 6"
   ]
  },
  {
   "cell_type": "markdown",
   "metadata": {},
   "source": [
    "Using the code from challenge 3, add onto it to allow you to read in a file and write to a file."
   ]
  },
  {
   "cell_type": "code",
   "execution_count": 4,
   "metadata": {},
   "outputs": [],
   "source": [
    "def encodeString(stringVal):\n",
    "    encodedList = []\n",
    "    prevVal = stringVal[0]\n",
    "    count = 0\n",
    "    for char in stringVal:\n",
    "        if char != prevVal:\n",
    "            encodedList.append((prevVal, count))\n",
    "            count = 0\n",
    "        prevVal = char\n",
    "        count = count + 1\n",
    "\n",
    "    encodedList.append((prevVal, count))\n",
    "    return encodedList\n",
    "\n",
    "def decodeString(encodedList):\n",
    "    decoded_string = ''\n",
    "    for i in encodedList:\n",
    "        decoded_string = decoded_string + (i[0]*i[1])\n",
    "    return decoded_string"
   ]
  },
  {
   "cell_type": "code",
   "execution_count": 8,
   "metadata": {},
   "outputs": [],
   "source": [
    "import json\n",
    "import os"
   ]
  },
  {
   "cell_type": "markdown",
   "metadata": {},
   "source": [
    "### Write code to read in a file and output a compressed file."
   ]
  },
  {
   "cell_type": "code",
   "execution_count": 6,
   "metadata": {},
   "outputs": [],
   "source": [
    "def encodeFile(filename, newFilename):\n",
    "    with open(filename, 'r') as file:\n",
    "        content = encodeString(file.read())\n",
    "    with open(newFilename, 'w') as file:\n",
    "        file.write(json.dumps(content))"
   ]
  },
  {
   "cell_type": "code",
   "execution_count": 15,
   "metadata": {},
   "outputs": [
    {
     "name": "stdout",
     "output_type": "stream",
     "text": [
      "1710\n",
      "0\n"
     ]
    }
   ],
   "source": [
    "#To show file sizes before compression.\n",
    "filename = './resources/largeFile.txt'\n",
    "newFilename = './resources/compressedfile.txt'\n",
    "\n",
    "print(os.path.getsize(filename))\n",
    "print(os.path.getsize(newFilename))"
   ]
  },
  {
   "cell_type": "code",
   "execution_count": 16,
   "metadata": {},
   "outputs": [
    {
     "name": "stdout",
     "output_type": "stream",
     "text": [
      "1710\n",
      "986\n"
     ]
    }
   ],
   "source": [
    "#To show after the encoding script is run.\n",
    "encodeFile(filename, newFilename)\n",
    "\n",
    "print(os.path.getsize(filename))\n",
    "print(os.path.getsize(newFilename))"
   ]
  },
  {
   "cell_type": "markdown",
   "metadata": {},
   "source": [
    "### Write code to read compressed file (decode)"
   ]
  },
  {
   "cell_type": "code",
   "execution_count": 18,
   "metadata": {},
   "outputs": [],
   "source": [
    "def decodeFile(filename):\n",
    "    with open(filename) as file:\n",
    "        content = file.read()\n",
    "    return decodeString(json.loads(content))"
   ]
  },
  {
   "cell_type": "code",
   "execution_count": 19,
   "metadata": {},
   "outputs": [
    {
     "name": "stdout",
     "output_type": "stream",
     "text": [
      "########################################################################################\n",
      "##############################  #################  #####################################\n",
      "############################      #############      ###################################\n",
      "###########################        ###########        ##################################\n",
      "###########################        ###########        ##################################\n",
      "############################      #############      ###################################\n",
      "#############################    ###############    ####################################\n",
      "##############################  #################  #####################################\n",
      "########################################################################################\n",
      "########################################################################################\n",
      "################     ##########################################    #####################\n",
      "#################     ########################################    ######################\n",
      "##################     ######################################    #######################\n",
      "###################     ####################################    ########################\n",
      "####################     ##################################    #########################\n",
      "#####################     ################################    ##########################\n",
      "######################                                       ###########################\n",
      "########################################################################################\n",
      "########################################################################################\n",
      "\n"
     ]
    }
   ],
   "source": [
    "print(decodeFile(newFilename))"
   ]
  }
 ],
 "metadata": {
  "kernelspec": {
   "display_name": "base",
   "language": "python",
   "name": "python3"
  },
  "language_info": {
   "codemirror_mode": {
    "name": "ipython",
    "version": 3
   },
   "file_extension": ".py",
   "mimetype": "text/x-python",
   "name": "python",
   "nbconvert_exporter": "python",
   "pygments_lexer": "ipython3",
   "version": "3.12.4"
  }
 },
 "nbformat": 4,
 "nbformat_minor": 2
}
